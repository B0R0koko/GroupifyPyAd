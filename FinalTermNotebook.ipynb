{
 "cells": [
  {
   "cell_type": "markdown",
   "id": "776147c7",
   "metadata": {},
   "source": [
    "<h3>Research Notebook for term paper 2022</h3>\n",
    "<p>Development and research done by <b>Mihail Mironov BEC-191</b> under the supervision and guidence of <b>E.A.Yanovsky</b></p>"
   ]
  },
  {
   "cell_type": "code",
   "execution_count": 1,
   "id": "4433c07f",
   "metadata": {},
   "outputs": [],
   "source": [
    "import pandas as pd\n",
    "import numpy as np\n",
    "import matplotlib.pyplot as plt\n",
    "import torch \n",
    "\n",
    "from ipywidgets import IntProgress"
   ]
  },
  {
   "cell_type": "markdown",
   "id": "38345f51",
   "metadata": {},
   "source": [
    "<h3>Introduction</h3>\n",
    "<p>In this notebook is my though process that lead me to some intersting results. Unfortunately, I dont have any data to test proposed algorithms properly so I resorted to using sythetic data sampled from various distributions (about this later in the notebook).</p>"
   ]
  },
  {
   "cell_type": "markdown",
   "id": "7a78b47b",
   "metadata": {},
   "source": [
    "<h3>Design of data</h3>\n",
    "<p>In the following sections we are going to sample players' preferences as well as advertisements. These will be represented by boolean vectors with each input representing exactly one topic: if values is True or 1 it implies that a given person likes this topic or in the content of advetisement given ad covers this topic and everything is opposite when the value is 0. So everything is clean and simple.</p>"
   ]
  },
  {
   "cell_type": "markdown",
   "id": "fc7dad05",
   "metadata": {},
   "source": [
    "<h3>Get a group of targeted individuals</h3>\n",
    "<p>Since I have no real data I use synthetic data to run calculations. In order to mimic reality I sample data from various distributions at once. Such decision can be explained in the following way: younger people are more likely to google things related to tech than elderly (at least I think so). So for every subgroup of people with some special characteristic endowed to them there is their own distribution of preferences. Such distributions could be drawn from real data if I had some.</p>\n",
    "\n",
    "<p>Let's say that we have 20 subgroups of people based on age, sex, time and space based characteristics and etc.</p>"
   ]
  },
  {
   "cell_type": "code",
   "execution_count": 2,
   "id": "24aaee5f",
   "metadata": {},
   "outputs": [],
   "source": [
    "class Group:\n",
    "    \n",
    "    def __init__(self, n_players, n_topics):\n",
    "        self.n_players = n_players\n",
    "        self.n_topics = n_topics\n",
    "        self._weights = None\n",
    "       \n",
    "    @property\n",
    "    def weights(self):\n",
    "        return self._weights\n",
    "    \n",
    "    @weights.setter\n",
    "    def weights(self, weights):\n",
    "        assert self.n_players == len(weights), \"You need to pass in weight for every single player!!\"\n",
    "        self._weights = weights\n",
    "        print(f\"--- This weights will be used to weight preferences of players in the algorithm\")\n",
    "        \n",
    "    def create_random_weights(self):\n",
    "        self._weights = np.random.random((self.n_players, 1))\n",
    "    \n",
    "    # Vertical and horizontal partitioning at the same time\n",
    "    def discrete_prefs(self, return_probs=False, specify_subgroups=None, n_subgroups=1):\n",
    "        \n",
    "        # Specify subgroups allows to pass in list of tuples with each tuple representing descrete \n",
    "        # pdf of every subgroup. Values in such tuple correspond to each topic's probability of being \n",
    "        # favoured by the member of a given subgroup. By default there is only one default subgroup with\n",
    "        # random probabilities.\n",
    "        \n",
    "        if specify_subgroups is None:\n",
    "            subgroups = [np.random.random(self.n_topics) for _ in range(n_subgroups)]\n",
    "        else:\n",
    "            subgroups = specify_subgroups\n",
    "\n",
    "        prefs = None\n",
    "        VALUES = [0, 1]\n",
    "        \n",
    "        for i, spec in enumerate(subgroups):\n",
    "            \n",
    "            assert len(spec) == self.n_topics, (\"Each topic must be provided with its own probaility!!\")\n",
    "            \n",
    "            div, mod = divmod(self.n_players, len(subgroups))\n",
    "            batch_size = div if i != len(subgroups)-1 else div + mod\n",
    "            # for each topic sample value for every member of subgroup\n",
    "            batch_prefs = None\n",
    "            \n",
    "            # Columnwise \n",
    "            for topic_prob in spec:\n",
    "                probabilities = [1-topic_prob, topic_prob] # P(\"0\"), P(\"1\")\n",
    "                topic_prefs = np.random.choice(VALUES, size=(batch_size, 1), p=probabilities)\n",
    "                \n",
    "                if batch_prefs is None:\n",
    "                    batch_prefs = topic_prefs\n",
    "                else:\n",
    "                    batch_prefs = np.hstack([batch_prefs, topic_prefs])\n",
    "            \n",
    "            # Row-wise\n",
    "            if prefs is None:\n",
    "                prefs = batch_prefs\n",
    "            else:\n",
    "                prefs = np.vstack([prefs, batch_prefs])\n",
    "        \n",
    "        if return_probs:\n",
    "            return prefs, subgroups\n",
    "        else:\n",
    "            return prefs\n",
    "        \n",
    "        \n",
    "    # vertical partitioning    \n",
    "    def vertical_discrete_prefs(self, n_subgroups=1):\n",
    "        \n",
    "        VALUES = [0, 1]\n",
    "        prefs = None\n",
    "        \n",
    "        for i in range(n_subgroups):\n",
    "\n",
    "            div, mod = divmod(self.n_players, n_subgroups)\n",
    "            batch_size = div if i != n_subgroups-1 else div + mod\n",
    "            prob = np.random.random()\n",
    "            probabilities = [1-prob, prob]\n",
    "            \n",
    "            subgroup_prefs = np.random.choice(VALUES, (batch_size, self.n_topics), p=probabilities)\n",
    "            if prefs is None:\n",
    "                prefs = subgroup_prefs\n",
    "            else:\n",
    "                prefs = np.vstack([prefs, subgroup_prefs])\n",
    "            \n",
    "        return prefs"
   ]
  },
  {
   "cell_type": "markdown",
   "id": "996904c3",
   "metadata": {},
   "source": [
    "<p><b>specify_subgroups</b> parameter allows to break the group down into subgroups with own topic probabilities.\n",
    "In our test case we have the first group member of which like topic \"1\" with probability of 1 and topic \"2\" with probability of 0.1 (most likely they dont like it) same with group 2</p>\n",
    "<p><b>n_subgroups allows</b> to control how many default random subgroups we want to get</p>"
   ]
  },
  {
   "cell_type": "markdown",
   "id": "6ffb8631",
   "metadata": {},
   "source": [
    "<h4>Test Case</h4>"
   ]
  },
  {
   "cell_type": "code",
   "execution_count": 3,
   "id": "eccdc805",
   "metadata": {},
   "outputs": [],
   "source": [
    "np.random.seed(12)"
   ]
  },
  {
   "cell_type": "code",
   "execution_count": 4,
   "id": "f0aee3b8",
   "metadata": {},
   "outputs": [
    {
     "data": {
      "text/plain": [
       "array([[1, 1],\n",
       "       [1, 1],\n",
       "       [1, 0],\n",
       "       [1, 1],\n",
       "       [1, 0],\n",
       "       [0, 0],\n",
       "       [0, 0],\n",
       "       [1, 0],\n",
       "       [1, 1],\n",
       "       [0, 0]])"
      ]
     },
     "execution_count": 4,
     "metadata": {},
     "output_type": "execute_result"
    }
   ],
   "source": [
    "test_group = Group(n_players=10, n_topics=2)\n",
    "\n",
    "prefs, probs = test_group.discrete_prefs(return_probs=True, specify_subgroups=[(1, 0.1), (0.2, 0.3)])\n",
    "\n",
    "# Generated preferences\n",
    "prefs"
   ]
  },
  {
   "cell_type": "code",
   "execution_count": 5,
   "id": "f4e8089d",
   "metadata": {},
   "outputs": [
    {
     "data": {
      "text/plain": [
       "[(1, 0.1), (0.2, 0.3)]"
      ]
     },
     "execution_count": 5,
     "metadata": {},
     "output_type": "execute_result"
    }
   ],
   "source": [
    "# Probabilities used\n",
    "probs"
   ]
  },
  {
   "cell_type": "markdown",
   "id": "c1687931",
   "metadata": {},
   "source": [
    "<h4>Get a set of players</h4>"
   ]
  },
  {
   "cell_type": "code",
   "execution_count": 6,
   "id": "28fab8e8",
   "metadata": {},
   "outputs": [
    {
     "data": {
      "text/plain": [
       "array([[0, 0, 0, ..., 0, 0, 1],\n",
       "       [0, 1, 1, ..., 0, 1, 1],\n",
       "       [1, 0, 1, ..., 1, 0, 0],\n",
       "       ...,\n",
       "       [1, 1, 1, ..., 1, 1, 1],\n",
       "       [1, 1, 1, ..., 1, 1, 1],\n",
       "       [1, 1, 1, ..., 1, 1, 1]])"
      ]
     },
     "execution_count": 6,
     "metadata": {},
     "output_type": "execute_result"
    }
   ],
   "source": [
    "group = Group(n_players=100, n_topics=1000)\n",
    "\n",
    "prefs = group.vertical_discrete_prefs(n_subgroups=20) # for some reason more volatile data\n",
    "prefs"
   ]
  },
  {
   "cell_type": "markdown",
   "id": "eb51e6fe",
   "metadata": {},
   "source": [
    "<h3>Get a pool of advertisements</h3>\n",
    "<p>Each advertisemt is modelled the same way as players' preferences. But in this case each input of a boolean vector decides if a given advertisement covers the topic or not.</p>"
   ]
  },
  {
   "cell_type": "code",
   "execution_count": 7,
   "id": "e037dc49",
   "metadata": {},
   "outputs": [],
   "source": [
    "class Pool:\n",
    "    \n",
    "    def __init__(self, n_ads, n_topics):\n",
    "        self.n_ads = n_ads\n",
    "        self.n_topics = n_topics # must match the number of topics in the preference set\n",
    "\n",
    "    @property\n",
    "    def norm_ads(self):\n",
    "        return np.random.normal(loc=0.5, scale=0.166, size=(self.n_ads, self.n_topics)).round()"
   ]
  },
  {
   "cell_type": "code",
   "execution_count": 8,
   "id": "40c5c1b0",
   "metadata": {},
   "outputs": [
    {
     "data": {
      "text/plain": [
       "array([[1., 1., 1., ..., 0., 1., 0.],\n",
       "       [0., 1., 1., ..., 0., 0., 1.],\n",
       "       [0., 0., 1., ..., 0., 1., 1.],\n",
       "       ...,\n",
       "       [0., 1., 0., ..., 0., 0., 1.],\n",
       "       [1., 0., 0., ..., 1., 1., 0.],\n",
       "       [1., 1., 1., ..., 0., 1., 1.]])"
      ]
     },
     "execution_count": 8,
     "metadata": {},
     "output_type": "execute_result"
    }
   ],
   "source": [
    "pool = Pool(n_ads=200, n_topics=1000)\n",
    "ads = pool.norm_ads\n",
    "ads"
   ]
  },
  {
   "cell_type": "markdown",
   "id": "29a71ffb",
   "metadata": {},
   "source": [
    "<h3>Common Utility Class **SKIP**</h3>"
   ]
  },
  {
   "cell_type": "code",
   "execution_count": 9,
   "id": "d8b35b39",
   "metadata": {},
   "outputs": [],
   "source": [
    "class ExclusionAlgoUtility:\n",
    "    \n",
    "    def plot_results(self, use_fields=['rho_score', 'ad_idx'], figsize=(8,6)):\n",
    "        assert \"results\" in dir(self), \"You must run the model first. Model.results is not defined yet!!\"\n",
    "        \n",
    "        fig, subplots = plt.subplots(nrows=len(use_fields), ncols=1, sharex=True)\n",
    "        subplots = [subplots] if len(use_fields) == 1 else subplots\n",
    "        x_axis = range(1, self._n_players)\n",
    "        \n",
    "        fig.set_size_inches(*figsize) \n",
    "        fig.set_dpi(75)\n",
    "        \n",
    "        for ax, field in zip(subplots, use_fields):\n",
    "            if isinstance(field, list):\n",
    "                ax.plot(x_axis, *[self.results[subfield] for subfield in field])\n",
    "                ax.legend(field)\n",
    "                ax.set_ylabel(\" & \".join(field))\n",
    "            else:\n",
    "                ax.plot(x_axis, self.results[field])\n",
    "                ax.set_ylabel(field)\n",
    "        \n",
    "        subplots[-1].set_xlabel(\"Exclusion Step\")\n",
    "        plt.show()\n",
    "        \n",
    "    # takes list of callables as an input each must receive model.results object as an input    \n",
    "    def plot_calculated_fields(self, modifier_funcs, figsize=(16, 12) ,attach_to=None):\n",
    "        \n",
    "        fig, subplots = plt.subplots(nrows=len(modifier_funcs), ncols=1, sharex=True)\n",
    "        subplots = [subplots] if len(modifier_funcs) == 1 else subplots\n",
    "        x_axis = range(1, self._n_players)\n",
    "        \n",
    "        fig.set_size_inches(*figsize)\n",
    "        fig.set_dpi(75)\n",
    "        \n",
    "        for func, ax in zip(modifier_funcs, subplots):\n",
    "            plot_data = func(self.results)\n",
    "            ax.plot(x_axis, plot_data)\n",
    "            \n",
    "        subplots[-1].set_xlabel(\"Exclusion Step\")\n",
    "        plt.show()"
   ]
  },
  {
   "cell_type": "markdown",
   "id": "1a174da9",
   "metadata": {},
   "source": [
    "<h2>Exclusion Algorithm</h2>\n",
    "<h4>General Idea</h4>\n",
    "<p>There are two sets of agents: <b>target set</b> - set of people that are targeted with an ad and <b>exclusion set</b> - people removed from target set that are to some extent not considered when making an ad recommendation. Algorithm runs until there is no one left in the target set. At each step only one agent is removed (later to be changed) according to weighted score. This score is calculated for each person at every single iteration. Agent that yields the highest score is excluded and assigned to exclusion set.</p>\n",
    "\n",
    "<h4>Rho Score calculation</h4>\n",
    "<br>\n",
    "$\n",
    "    \\rho_{score}^{(i)} = \\frac{1}{|Target\\,/\\,{X_j}|} \\times \\sum_{X_i\\in{\\,Target\\,/\\,{X_j}}}{\\frac{<X_i\\cdot A>}{<A\\cdot A>}}\\cdot{\\alpha}+ \\frac{1}{|Exclusion\\,\\cup{X_j}|} \\times \\sum_{X_i\\in{\\,Exclusion\\,\\cup{X_j}}}{\\frac{<X_i\\cdot A>}{<A\\cdot A>}}\\cdot{(1-\\alpha)} \\rightarrow \\max_{X_i, A}\n",
    "$\n",
    "<br><br>\n",
    "T - target set, E - exclusion set, X<sub>j</sub> - exclusion<br>\n",
    "<h4>Algorithm</h4>\n",
    "<p>Now it bruteforces through every single pair of (X<sub>i</sub> A) to find optimal solution (later to be changed). </p>\n",
    "<p>Algotithm works as follows:</p>\n",
    "<p>Repeat steps from below till there is no one in target set:</p>\n",
    "<ul>\n",
    "    <li>\n",
    "        for each person in target set do:\n",
    "        <ol>\n",
    "            <li>Remove person from target set and put him into exclusion set</li>\n",
    "            <li>Find the best ad according to the abovementioned metric</li>\n",
    "            <li>Return removed person from exclusuon set to target one</li>\n",
    "        </ol>\n",
    "    </li>\n",
    "    <li>find exlusion with highest score and move this person pernamently to exclusion set</li>\n",
    "</ul>\n",
    "<h4>Important to mention</h4>\n",
    "<p>We use dot product of A (advirtisement) to itself to prevent advirtisers from describing their ads as if they cover mutliple topics because such ads will score lesser results</p>\n",
    "<h4>Vectorized Calculations</h4>\n",
    "<br>\n",
    "$\n",
    "dot\\_array\\,=\\,<A\\cdot A>\\,=\\,diag(A\\cdot A^{T})\\\\\n",
    "\\rho_{score}^{(i)} = \\alpha \\cdot avg(\\,\\frac{Target\\cdot A^{T}}{<A\\cdot A>}\\,) + (1-\\alpha) \\cdot avg(\\,\\frac{Exclusion\\cdot A^{T}}{<A\\cdot A>}\\,)\n",
    "$"
   ]
  },
  {
   "cell_type": "code",
   "execution_count": 10,
   "id": "044f7b73",
   "metadata": {},
   "outputs": [],
   "source": [
    "class ExclusionAlgo(ExclusionAlgoUtility):\n",
    "    \n",
    "    def __init__(self, prefs, ads, weights=None):\n",
    "        \n",
    "        super().__init__()\n",
    "        \n",
    "        self.prefs = self._convert_to_cuda(prefs)\n",
    "        self.ads = self._convert_to_cuda(ads)\n",
    "        \n",
    "        self._target_weight = 0.9\n",
    "        self._n_players = len(self.prefs)\n",
    "        self._n_ads = len(self.ads)\n",
    "        self._dot_array = torch.einsum(\"ij,ij->i\", self.ads, self.ads) #<A;A>\n",
    "        self._target_idx = list(range(0, len(self.prefs)))\n",
    "        self._excl_idx = []\n",
    "        self._ALL = range(0, len(self.ads))\n",
    "        \n",
    "        if weights is None:\n",
    "            self._weights = torch.ones(size=(self._n_players, 1)).cuda() \n",
    "        else:\n",
    "            self._weights = self._convert_to_cuda(weights)\n",
    "        \n",
    "        \n",
    "    def _convert_to_cuda(self, data):\n",
    "        # to_double() to avoid weird error of addmm_cuda not implemented for ints. Seems CUDA doesnt work with ints\n",
    "        return torch.from_numpy(data).cuda().double() \n",
    "        \n",
    "    @property\n",
    "    def available_fields(self):\n",
    "        fields = [\"rho_score\", \"ad_idx\", \"target_score\", \"excl_score\", \"excl_idx\"]\n",
    "        print(\"Model provides you with:\\n\" + \"\\n\".join(fields))\n",
    "        \n",
    "        \n",
    "    @property\n",
    "    def target_weight(self):\n",
    "        return self._target_weight\n",
    "    \n",
    "    @target_weight.setter\n",
    "    def target_weight(self, weight):\n",
    "        self._target_weight = weight\n",
    "        print(f\"---- By setting this weight you give {weight} importance to target group ----\") \n",
    "        \n",
    "    def calc_rho_score(self, target_idx, excl_idx, ad_idx=None):\n",
    "\n",
    "        ad_idx = self._ALL if not ad_idx else [ad_idx] # if none indecies passed in then use all ads\n",
    "        \n",
    "        def rho_score(pref_idx, ad_idx):\n",
    "            if len(pref_idx) > 0:\n",
    "                X_A = torch.matmul(self.prefs[pref_idx], self.ads[ad_idx].T) / self._dot_array[ad_idx]\n",
    "                wX_A = torch.mul(X_A, self._weights[pref_idx])\n",
    "                return torch.sum(wX_A, axis=0) / torch.sum(self._weights[pref_idx])\n",
    "            else:\n",
    "                return torch.zeros(self._n_ads).cuda()\n",
    "        \n",
    "        target_scores = rho_score(target_idx, ad_idx)\n",
    "        excl_scores = rho_score(excl_idx, ad_idx)\n",
    "        \n",
    "        rho_scores = self.target_weight * target_scores + (1 - self.target_weight) * excl_scores\n",
    "        return rho_scores, target_scores, excl_scores\n",
    "    \n",
    "    \n",
    "    # find best advertisement according to rho score\n",
    "    def find_best_ad(self, target_idx, excl_idx, ad_idx=None):\n",
    "        \n",
    "        rho_scores, target_scores, excl_scores = self.calc_rho_score(target_idx, excl_idx, ad_idx)\n",
    "        best_ad_idx = torch.argmax(rho_scores)\n",
    "        best_rho_score = rho_scores[best_ad_idx]\n",
    "        best_target_score, best_excl_score = target_scores[best_ad_idx], excl_scores[best_ad_idx]\n",
    "        \n",
    "        return [\n",
    "            best_rho_score.item(), best_ad_idx.item(), best_target_score.item(), best_excl_score.item()\n",
    "        ]\n",
    "    \n",
    "    \n",
    "    def find_best_exclusion(self, target_idx, excl_idx):\n",
    "        tmp_target_idx, tmp_excl_idx = target_idx.copy(), excl_idx.copy()\n",
    "        \n",
    "        exclusion_data = {\n",
    "            'rho_score': [], \n",
    "            'ad_idx': [], \n",
    "            'target_score': [], \n",
    "            'excl_score': [], \n",
    "            'excl_idx': []\n",
    "        }\n",
    "        \n",
    "        for i, idx in enumerate(target_idx):\n",
    "            \n",
    "            tmp_target_idx.remove(idx)\n",
    "            tmp_excl_idx.append(idx)\n",
    "            res = self.find_best_ad(tmp_target_idx, tmp_excl_idx) + [idx]\n",
    "            \n",
    "            for key, val in zip(exclusion_data.keys(), res):\n",
    "                exclusion_data[key].append(val)\n",
    "            tmp_target_idx.append(idx)\n",
    "            tmp_excl_idx.remove(idx)\n",
    "            \n",
    "        rel_idx = np.array(exclusion_data['rho_score']).argmax()\n",
    "        return [val[rel_idx] for val in exclusion_data.values()]\n",
    "    \n",
    "    def fit(self):\n",
    "        \n",
    "        tmp_target_idx, tmp_excl_idx = self._target_idx.copy(), self._excl_idx.copy()\n",
    "        \n",
    "        results = {\n",
    "            'rho_score': [], \n",
    "            'ad_idx': [], \n",
    "            'target_score': [],\n",
    "            'excl_score': [], \n",
    "            'excl_idx': []\n",
    "        }\n",
    "        \n",
    "        excl_bundle = []\n",
    "        \n",
    "        progress = IntProgress(min=1, max=self._n_players, value=0, every=1)\n",
    "        display(progress)\n",
    "        start_idx = 0\n",
    "        \n",
    "        for i in range(self._n_players-1):\n",
    "            res = self.find_best_exclusion(tmp_target_idx, tmp_excl_idx)\n",
    "\n",
    "            for key, val in zip(results.keys(), res):\n",
    "                results[key].append(val)\n",
    "                \n",
    "            excl_idx = res[-1]\n",
    "            \n",
    "            tmp_target_idx.remove(excl_idx)\n",
    "            tmp_excl_idx.append(excl_idx)\n",
    "            \n",
    "            progress.value += 1\n",
    "\n",
    "        model.results = results"
   ]
  },
  {
   "cell_type": "code",
   "execution_count": 11,
   "id": "56d2da32",
   "metadata": {},
   "outputs": [
    {
     "name": "stdout",
     "output_type": "stream",
     "text": [
      "---- By setting this weight you give 0.9 importance to target group ----\n"
     ]
    },
    {
     "data": {
      "application/vnd.jupyter.widget-view+json": {
       "model_id": "2c06561c0e77482298f410db058dca74",
       "version_major": 2,
       "version_minor": 0
      },
      "text/plain": [
       "IntProgress(value=1, min=1)"
      ]
     },
     "metadata": {},
     "output_type": "display_data"
    }
   ],
   "source": [
    "model = ExclusionAlgo(prefs, ads)\n",
    "model.target_weight = 0.9\n",
    "model.fit()"
   ]
  },
  {
   "cell_type": "code",
   "execution_count": 12,
   "id": "6c72fbb9",
   "metadata": {},
   "outputs": [
    {
     "name": "stdout",
     "output_type": "stream",
     "text": [
      "Model provides you with:\n",
      "rho_score\n",
      "ad_idx\n",
      "target_score\n",
      "excl_score\n",
      "excl_idx\n"
     ]
    }
   ],
   "source": [
    "model.available_fields"
   ]
  },
  {
   "cell_type": "code",
   "execution_count": 13,
   "id": "c9b4dee7",
   "metadata": {},
   "outputs": [
    {
     "data": {
      "image/png": "[encoded data removed]",
      "text/plain": [
       "<Figure size 900x750 with 3 Axes>"
      ]
     },
     "metadata": {
      "needs_background": "light"
     },
     "output_type": "display_data"
    }
   ],
   "source": [
    "model.plot_results(use_fields=[\"rho_score\", \"ad_idx\", [\"target_score\", \"excl_score\"]], figsize=(12,10))"
   ]
  },
  {
   "cell_type": "code",
   "execution_count": 14,
   "id": "6165ed39",
   "metadata": {},
   "outputs": [
    {
     "data": {
      "image/png": "[encoded data removed]",
      "text/plain": [
       "<Figure size 750x225 with 1 Axes>"
      ]
     },
     "metadata": {
      "needs_background": "light"
     },
     "output_type": "display_data"
    }
   ],
   "source": [
    "diff = lambda data: np.array(data['target_score']) - np.array(data['excl_score'])\n",
    "\n",
    "model.plot_calculated_fields([diff], figsize=(10, 3))"
   ]
  },
  {
   "cell_type": "markdown",
   "id": "25662413",
   "metadata": {},
   "source": [
    "<h3>Discussing obtained results</h3>\n",
    "<p>Now we are to interpret graphs above. You can see that as we start the process of exclusion our rho_score seems to go down. This is mainly attributed to excl_score going down tremendously and target_score growing ever so slightly. If we dont contstraint exclusions we arrive at the situation where people in exclusion set are better off than ones in target which is definately not the intended behaviour. This happens mainly because at first exclusions excl_set is not that messy and it's better for algorithm in terms of rho_score to adapt itself to preferences of people in exclusion set. As we get more and more exclusions target set purifies itself from outliers on the other hand exclusion set is becoming more scattered across. At some point exclusion and target scores will switch places but this could be too late as people that actually belong in the target set are already excluded. So such division might be flawed that is why we introduced new important change to the algorithm.</p>\n",
    "\n",
    "<p><b>Let's introduce constraint that bans exclusions resulting in target score being lower than exclusion score</b></p>"
   ]
  },
  {
   "cell_type": "markdown",
   "id": "e3c4ca8d",
   "metadata": {},
   "source": [
    "<h2>ExclusionConstrained</h2>\n",
    "\n",
    "\n",
    "<h4>Rho Score calculation</h4>\n",
    "<br>\n",
    "$\n",
    "    \\rho_{score}^{(i)} = \\frac{1}{|Target\\,/\\,{X_j}|} \\times \\sum_{X_i\\in{\\,Target\\,/\\,{X_j}}}{\\frac{<X_i\\cdot A>}{<A\\cdot A>}}\\cdot{\\alpha}+ \\frac{1}{|Exclusion\\,\\cup{X_j}|} \\times \\sum_{X_i\\in{\\,Exclusion\\,\\cup{X_j}}}{\\frac{<X_i\\cdot A>}{<A\\cdot A>}}\\cdot{(1-\\alpha)} \\rightarrow \\max_{X_i, A}\n",
    "$ <br><br>\n",
    "$\n",
    "st. \\rho_{target}(Target\\,/X_{j}, A) > \\rho_{exclusion}(Exclusion\\,\\cup{X_j}, A)\n",
    "$\n",
    "<br>"
   ]
  },
  {
   "cell_type": "code",
   "execution_count": 15,
   "id": "6fdd95af",
   "metadata": {},
   "outputs": [],
   "source": [
    "class ExclusionConstrained(ExclusionAlgo):\n",
    "    \n",
    "    def __init__(self, prefs, ads, weights=None):\n",
    "        super().__init__(prefs, ads, weights)\n",
    "        \n",
    "    # Implement interface  \n",
    "    \n",
    "    # We aim to find rho maximizing exclusion that yields target score no less than exclusion set\n",
    "    # Previously there was a flaw with this as initial exclusions used to benefit exclusion set more which is \n",
    "    # definately unintended behaviour of the algorithm. Here we aim to fix this issue by allowing only exclusions\n",
    "    # that result in target_score >= exclusion_score with rho_score maxed out.\n",
    "    \n",
    "    def find_best_exclusion(self, target_idx, excl_idx):\n",
    "        tmp_target_idx, tmp_excl_idx = target_idx.copy(), excl_idx.copy()\n",
    "        \n",
    "        exclusion_data = {\n",
    "            'rho_score': [], \n",
    "            'ad_idx': [], \n",
    "            'target_score': [], \n",
    "            'excl_score': []\n",
    "        }\n",
    "        \n",
    "        for i, idx in enumerate(target_idx):\n",
    "            \n",
    "            tmp_target_idx.remove(idx)\n",
    "            tmp_excl_idx.append(idx)\n",
    "            \n",
    "            # Find avg(X_A, axis=0) \n",
    "            rho_scores, target_scores, excl_scores = self.calc_rho_score(tmp_target_idx, tmp_excl_idx)\n",
    "            # Filter out all indecies that doesn't meet the requirement\n",
    "            filtered_ad_indecies = (target_scores >= excl_scores).nonzero().flatten()\n",
    "            filtered_scores = rho_scores[target_scores >= excl_scores]\n",
    "            # Check if there is any ads satisfying the constraint\n",
    "            if len(filtered_ad_indecies) == 0:\n",
    "                # Add -1 in this case to the dict so there is no indecies mismatch further\n",
    "                for key in exclusion_data.keys():\n",
    "                    exclusion_data[key].append(-1)\n",
    "                continue # Move on to the next exclusion\n",
    "                \n",
    "            # Find best advertisement at current exclusion\n",
    "            rel_idx = filtered_scores.argmax()  # index relative to filtered set\n",
    "            \n",
    "            ad_idx = filtered_ad_indecies[rel_idx].item()\n",
    "            rho_score = filtered_scores[rel_idx].item()\n",
    "            target_score = target_scores[ad_idx].item()  # use ad_idx to get target and excl scores in overall set\n",
    "            excl_score = excl_scores[ad_idx].item()\n",
    "            \n",
    "            vals = [rho_score, ad_idx, target_score, excl_score]\n",
    "\n",
    "            # Add data to the dict\n",
    "            for key, val in zip(exclusion_data.keys(), vals):\n",
    "                exclusion_data[key].append(val)\n",
    "                \n",
    "            tmp_target_idx.append(idx)\n",
    "            tmp_excl_idx.remove(idx)\n",
    "            \n",
    "        rel_idx = np.array(exclusion_data['rho_score']).argmax()\n",
    "        \n",
    "        # returns rho_score, ad_idx, target_score, excl_score + excl_idx\n",
    "        return [exclusion_data[key][rel_idx] for key in exclusion_data.keys()] + [target_idx[rel_idx]]"
   ]
  },
  {
   "cell_type": "code",
   "execution_count": 29,
   "id": "7ba553f2",
   "metadata": {},
   "outputs": [
    {
     "data": {
      "application/vnd.jupyter.widget-view+json": {
       "model_id": "86eae779d71d4b8b84c96a4a4d37fdb5",
       "version_major": 2,
       "version_minor": 0
      },
      "text/plain": [
       "IntProgress(value=1, min=1)"
      ]
     },
     "metadata": {},
     "output_type": "display_data"
    }
   ],
   "source": [
    "model = ExclusionConstrained(prefs, ads)\n",
    "model.fit()"
   ]
  },
  {
   "cell_type": "code",
   "execution_count": 30,
   "id": "c993cc24",
   "metadata": {},
   "outputs": [
    {
     "data": {
      "image/png": "[encoded data removed]",
      "text/plain": [
       "<Figure size 900x750 with 3 Axes>"
      ]
     },
     "metadata": {
      "needs_background": "light"
     },
     "output_type": "display_data"
    }
   ],
   "source": [
    "model.plot_results(\n",
    "    use_fields=[\"rho_score\", \"ad_idx\", [\"target_score\", \"excl_score\"]],  \n",
    "    figsize=(12,10)\n",
    ")"
   ]
  },
  {
   "cell_type": "code",
   "execution_count": 18,
   "id": "d841edaf",
   "metadata": {},
   "outputs": [
    {
     "data": {
      "image/png": "[encoded data removed]",
      "text/plain": [
       "<Figure size 750x225 with 1 Axes>"
      ]
     },
     "metadata": {
      "needs_background": "light"
     },
     "output_type": "display_data"
    }
   ],
   "source": [
    "model.plot_calculated_fields([diff], figsize=(10, 3))"
   ]
  },
  {
   "cell_type": "markdown",
   "id": "a1739545",
   "metadata": {},
   "source": [
    "<h2>Exclusion Algorithm Weighted</h2>\n",
    "\n",
    "<p>Previously we had equally weighted players. Let's change it this time and assign each player his own weight of priority.</p>\n",
    "\n",
    "<h4>Weights</h4>\n",
    "<p>Now every player has his own weight based on a number of parameters requested by advertiser. For example these might be things like prior conversion or metrics measuring how well we know preferences of a given player.</p>\n",
    "<p>We will calculate each individual weight as a linear combination of various parameters that could be harvested through the recommendation system</p> \n",
    "\n",
    "$\n",
    "Weight = \\alpha \\cdot conversion + \\beta \\cdot search\\_history + \\gamma \\cdot commute\\_regularity + \\theta \\cdot trip\\_purpose\n",
    "$\n",
    "\n",
    "<h4>Weighted Rho-score calculation</h4>\n",
    "<br>\n",
    "$\n",
    "    \\rho_{score}^{(i)} = \\frac{1}{\\sum_{|Target\\,/\\,{X_j}|}w_j} \\times \\sum_{X_i\\in{\\,Target\\,/\\,{X_j}}} \\left[w_i \\cdot{\\frac{<X_i\\cdot A>}{<A\\cdot A>}}\\right] \\cdot{\\alpha}+ \\frac{1}{\\sum_{|Exclusion\\,\\cup{X_j}|}w_j} \\times \\sum_{X_i\\in{\\,Exclusion\\,\\cup{X_j}}}\\left[w_i\\cdot{\\frac{<X_i\\cdot A>}{<A\\cdot A>}}\\right]\\cdot{(1-\\alpha)} \\rightarrow \\max_{X_i, A}\n",
    "$ </br>\n",
    "\n",
    "<p>Now opinions are weighted therefore players with higher conversion and other desired parameters have the upper hand over others</p>"
   ]
  },
  {
   "cell_type": "code",
   "execution_count": 19,
   "id": "dcf2d176",
   "metadata": {},
   "outputs": [],
   "source": [
    "np.random.seed(120)"
   ]
  },
  {
   "cell_type": "code",
   "execution_count": 20,
   "id": "e595bb87",
   "metadata": {},
   "outputs": [
    {
     "data": {
      "text/plain": [
       "array([[1, 1, 1, ..., 1, 1, 0],\n",
       "       [1, 1, 1, ..., 1, 0, 0],\n",
       "       [1, 1, 1, ..., 1, 1, 1],\n",
       "       ...,\n",
       "       [0, 0, 1, ..., 1, 1, 1],\n",
       "       [1, 1, 1, ..., 1, 1, 1],\n",
       "       [1, 0, 0, ..., 1, 1, 0]])"
      ]
     },
     "execution_count": 20,
     "metadata": {},
     "output_type": "execute_result"
    }
   ],
   "source": [
    "group = Group(n_players=100, n_topics=1000)\n",
    "\n",
    "prefs = group.vertical_discrete_prefs(n_subgroups=20) # for some reason more volatile data\n",
    "prefs"
   ]
  },
  {
   "cell_type": "code",
   "execution_count": 21,
   "id": "d9ac597f",
   "metadata": {},
   "outputs": [],
   "source": [
    "group.create_random_weights()"
   ]
  },
  {
   "cell_type": "code",
   "execution_count": 22,
   "id": "3c0e638e",
   "metadata": {},
   "outputs": [
    {
     "data": {
      "application/vnd.jupyter.widget-view+json": {
       "model_id": "3e7d233106fa4de78931ebb9c2a0dfe8",
       "version_major": 2,
       "version_minor": 0
      },
      "text/plain": [
       "IntProgress(value=1, min=1)"
      ]
     },
     "metadata": {},
     "output_type": "display_data"
    }
   ],
   "source": [
    "# In order to use weighted algorithm just pass in weights to ExclusionAlgo or ExclusionConstrained\n",
    "\n",
    "model = ExclusionConstrained(prefs, ads, group.weights)\n",
    "model.fit()"
   ]
  },
  {
   "cell_type": "code",
   "execution_count": 23,
   "id": "f737b953",
   "metadata": {},
   "outputs": [
    {
     "data": {
      "image/png": "[encoded data removed]",
      "text/plain": [
       "<Figure size 750x600 with 3 Axes>"
      ]
     },
     "metadata": {
      "needs_background": "light"
     },
     "output_type": "display_data"
    }
   ],
   "source": [
    "model.plot_results(\n",
    "    use_fields=[\"rho_score\", \"ad_idx\", [\"target_score\", \"excl_score\"]], \n",
    "    figsize=(10,8)\n",
    ")"
   ]
  },
  {
   "cell_type": "code",
   "execution_count": 24,
   "id": "59eaf00e",
   "metadata": {},
   "outputs": [
    {
     "data": {
      "image/png": "[encoded data removed]",
      "text/plain": [
       "<Figure size 750x225 with 1 Axes>"
      ]
     },
     "metadata": {
      "needs_background": "light"
     },
     "output_type": "display_data"
    }
   ],
   "source": [
    "model.plot_calculated_fields([diff], figsize=(10, 3))"
   ]
  },
  {
   "cell_type": "markdown",
   "id": "7b709119",
   "metadata": {},
   "source": [
    "<h3>Results</h3>\n",
    "<p>It is indeed difficult to say when we should stop exclusions. Rho score itself doesnt provide us with any information about how target and exclusion clusters evolve across exclusions. Rho score is only used to determine best person to exclude at each iteration. It is always the case that rho_score is highest at the very last exclusions as advertisement adapts to preferences of a small group of people. I propose using $argmin\\,\\,\\rho_{exclusion}$ as a rule of thumb. Since exclusion set is supposed to be less prioritized, therefore it is logical to have their satisfaction lower. Other than that, if using $argmin \\,\\, \\rho_{exclusion}$ we have the same optimal advertisement and the rho_score increases this simply means that we exclude people from target simply because their individual score is below the mean. This is unwanted behaviour as there is no adveretisement adjustment simply swapping element around to get the highest mean.</p>"
   ]
  },
  {
   "cell_type": "code",
   "execution_count": 25,
   "id": "99917f98",
   "metadata": {},
   "outputs": [
    {
     "data": {
      "text/plain": [
       "162"
      ]
     },
     "execution_count": 25,
     "metadata": {},
     "output_type": "execute_result"
    }
   ],
   "source": [
    "stop_idx = np.array(model.results['excl_score']).argmin()\n",
    "model.results['ad_idx'][stop_idx]"
   ]
  },
  {
   "cell_type": "code",
   "execution_count": 26,
   "id": "79efd9d9",
   "metadata": {},
   "outputs": [
    {
     "data": {
      "text/plain": [
       "array([ 30,  34,  75,  77, 132, 143, 162, 168, 183, 195])"
      ]
     },
     "execution_count": 26,
     "metadata": {},
     "output_type": "execute_result"
    }
   ],
   "source": [
    "np.unique(np.array(model.results['ad_idx']))"
   ]
  },
  {
   "cell_type": "code",
   "execution_count": 27,
   "id": "7eec9686",
   "metadata": {},
   "outputs": [
    {
     "data": {
      "text/plain": [
       "array([132, 162, 143, 157, 103,  69,  30,  93,   8,  97,  60,  13,  51,\n",
       "       171,  39, 168,  35, 176,  24,  26,  53,  56,  87, 137,  16,  92,\n",
       "        19, 114,  95,  77,  21,  31,  10, 183,  33,  81,   0, 196,  38,\n",
       "       128,  42, 167,  73, 148, 123, 188, 189, 153,  23, 107, 135,  44,\n",
       "        63,  45, 136, 140, 174, 105, 147,  48, 195, 149,  94, 187,  55,\n",
       "       170,  99, 165,  46, 161,  96,  75, 101, 113, 185, 150,  67,  62,\n",
       "       173,   6,  72,  18, 131,   4, 154, 164, 104,  22, 160, 112, 146,\n",
       "       152, 100, 163, 169,  15, 122,  29, 111, 197, 159,  65, 158, 126,\n",
       "       116, 198,  47,  34,  14,  83, 134,   7,  54,  76,  79,  91,  82,\n",
       "       125,  78, 138,   5,  50, 172, 191, 142, 118, 129,  43,  80, 182,\n",
       "       181,   2, 199, 119, 117, 179, 130,  89,  25, 106,   3, 144,  41,\n",
       "       177,  74,  66, 175,  57, 108, 178,  88,  58, 115,  12,  40,   1,\n",
       "       180, 127,  27, 194,  68,  71,  59,  32,  61, 120,  90,  85,  64,\n",
       "       166,  52,  11,  20, 139, 184, 151, 102, 124, 192,  98,  84,  37,\n",
       "        70, 109, 145, 133, 156,  36, 193, 121, 155, 186, 190, 110,  28,\n",
       "         9,  17,  86,  49, 141], dtype=int64)"
      ]
     },
     "execution_count": 27,
     "metadata": {},
     "output_type": "execute_result"
    }
   ],
   "source": [
    "dot_array = np.einsum(\"ij,ij->i\", ads, ads)\n",
    "\n",
    "res = np.sum(np.matmul(prefs, ads.T) / dot_array * group.weights, axis=0) / np.sum(group.weights)\n",
    "res.argsort()[::-1]"
   ]
  }
 ],
 "metadata": {
  "kernelspec": {
   "display_name": "Python 3 (ipykernel)",
   "language": "python",
   "name": "python3"
  },
  "language_info": {
   "codemirror_mode": {
    "name": "ipython",
    "version": 3
   },
   "file_extension": ".py",
   "mimetype": "text/x-python",
   "name": "python",
   "nbconvert_exporter": "python",
   "pygments_lexer": "ipython3",
   "version": "3.9.12"
  }
 },
 "nbformat": 4,
 "nbformat_minor": 5
}
